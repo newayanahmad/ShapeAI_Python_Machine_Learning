{
  "nbformat": 4,
  "nbformat_minor": 0,
  "metadata": {
    "colab": {
      "provenance": [],
      "collapsed_sections": []
    },
    "kernelspec": {
      "name": "python3",
      "display_name": "Python 3"
    },
    "language_info": {
      "name": "python"
    }
  },
  "cells": [
    {
      "cell_type": "code",
      "execution_count": null,
      "metadata": {
        "id": "xn6xa5BBUe1w"
      },
      "outputs": [],
      "source": [
        "import numpy as np\n",
        "import pandas as pd\n",
        "from sklearn.datasets import load_boston"
      ]
    },
    {
      "cell_type": "code",
      "source": [
        "df=load_boston()"
      ],
      "metadata": {
        "id": "bjotj4CBUtZ4"
      },
      "execution_count": null,
      "outputs": []
    },
    {
      "cell_type": "code",
      "source": [
        "df.keys()"
      ],
      "metadata": {
        "id": "G8rjRBQYU5Dr"
      },
      "execution_count": null,
      "outputs": []
    },
    {
      "cell_type": "code",
      "source": [
        "print(df.DESCR)"
      ],
      "metadata": {
        "id": "QYpgP7zLWZLn"
      },
      "execution_count": null,
      "outputs": []
    },
    {
      "cell_type": "code",
      "source": [
        "print(df.feature_names,\"\\n\\n\", df.target, \"\\n\\n\", df.data)"
      ],
      "metadata": {
        "id": "3MX3ZjatXQyJ"
      },
      "execution_count": null,
      "outputs": []
    },
    {
      "cell_type": "code",
      "source": [
        "boston=pd.DataFrame(df.data, columns=df.feature_names)"
      ],
      "metadata": {
        "id": "zn14fbV6YP2k"
      },
      "execution_count": null,
      "outputs": []
    },
    {
      "cell_type": "code",
      "source": [
        "boston['MEDV']=df.target\n",
        "boston"
      ],
      "metadata": {
        "id": "le2wtVHDXF_4"
      },
      "execution_count": null,
      "outputs": []
    },
    {
      "cell_type": "code",
      "source": [
        "boston.isnull().sum()"
      ],
      "metadata": {
        "id": "7zoiFiqGX_iP"
      },
      "execution_count": null,
      "outputs": []
    },
    {
      "cell_type": "code",
      "source": [
        "from sklearn.model_selection import train_test_split\n",
        "X=boston.drop('MEDV', axis=1)\n",
        "Y=boston['MEDV']\n",
        "X_train, X_test, Y_train, Y_test=train_test_split(X, Y, test_size=0.15, random_state=5)\n",
        "print(X_train.shape, X_test.shape, Y_train.shape, Y_test.shape, sep='\\n')"
      ],
      "metadata": {
        "id": "JqDD13kiYAyc"
      },
      "execution_count": null,
      "outputs": []
    },
    {
      "cell_type": "code",
      "source": [
        "from sklearn.linear_model import LinearRegression\n",
        "from sklearn.metrics import mean_squared_error"
      ],
      "metadata": {
        "id": "TUyG3D33aKWG"
      },
      "execution_count": null,
      "outputs": []
    },
    {
      "cell_type": "code",
      "source": [
        "model=LinearRegression()\n",
        "model.fit(X_train, Y_train)"
      ],
      "metadata": {
        "id": "x7CvHdHZg3Ts"
      },
      "execution_count": null,
      "outputs": []
    },
    {
      "cell_type": "code",
      "source": [
        "y_train_predict=model.predict(X_train)\n",
        "rmse=np.sqrt(mean_squared_error(Y_train, y_train_predict))\n",
        "print(\"The model performance for training set\")\n",
        "print(f\"RMSE is {rmse}\")\n",
        "\n",
        "y_test_predict=model.predict(X_test)\n",
        "rmse=np.sqrt(mean_squared_error(Y_test, y_test_predict))\n",
        "\n",
        "print(\"The model performance for testing set\")\n",
        "print(f\"RMSE is {rmse}\")"
      ],
      "metadata": {
        "id": "xV6HptRghOSa"
      },
      "execution_count": null,
      "outputs": []
    }
  ]
}